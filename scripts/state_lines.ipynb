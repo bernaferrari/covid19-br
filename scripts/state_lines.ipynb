{
 "cells": [
  {
   "cell_type": "code",
   "execution_count": 3,
   "metadata": {
    "tags": []
   },
   "outputs": [
    {
     "output_type": "stream",
     "name": "stdout",
     "text": "Index(['city', 'city_ibge_code', 'date', 'epidemiological_week',\n       'estimated_population_2019', 'is_last', 'is_repeated',\n       'last_available_confirmed',\n       'last_available_confirmed_per_100k_inhabitants', 'last_available_date',\n       'last_available_death_rate', 'last_available_deaths', 'order_for_place',\n       'place_type', 'state', 'new_confirmed', 'new_deaths'],\n      dtype='object')\n"
    }
   ],
   "source": [
    "import pandas as pd\n",
    "df = pd.read_csv(\"caso_full.csv\")\n",
    "print(df.columns)"
   ]
  },
  {
   "cell_type": "code",
   "execution_count": 6,
   "metadata": {
    "tags": []
   },
   "outputs": [
    {
     "output_type": "stream",
     "name": "stdout",
     "text": "date state  confirmed  deaths  confirmed_per_100k_inhabitants\n1  2020-02-25    SP          1       0                         0.00218\n3  2020-02-26    SP          1       0                         0.00218\n5  2020-02-27    SP          1       0                         0.00218\n7  2020-02-28    SP          2       0                         0.00436\n9  2020-02-29    SP          2       0                         0.00436\n"
    }
   ],
   "source": [
    "states = df[df.place_type.eq(\"state\")]\n",
    "states = states[[\"date\", \"state\", \"last_available_confirmed\", \"last_available_deaths\", \"last_available_confirmed_per_100k_inhabitants\"]]\n",
    "states = states.rename(columns={\"last_available_confirmed\": \"confirmed\", \"last_available_deaths\": \"deaths\", \"last_available_confirmed_per_100k_inhabitants\": \"confirmed_per_100k_inhabitants\"})\n",
    "\n",
    "states.to_csv(\"../public/data/states.csv\", index=False, header=True, float_format=\"%.0f\")\n",
    "print(states.head())"
   ]
  },
  {
   "cell_type": "code",
   "execution_count": null,
   "metadata": {},
   "outputs": [],
   "source": []
  }
 ],
 "metadata": {
  "language_info": {
   "codemirror_mode": {
    "name": "ipython",
    "version": 3
   },
   "file_extension": ".py",
   "mimetype": "text/x-python",
   "name": "python",
   "nbconvert_exporter": "python",
   "pygments_lexer": "ipython3",
   "version": "3.8.3-final"
  },
  "orig_nbformat": 2,
  "kernelspec": {
   "name": "python_defaultSpec_1594857570762",
   "display_name": "Python 3.8.3 64-bit"
  }
 },
 "nbformat": 4,
 "nbformat_minor": 2
}