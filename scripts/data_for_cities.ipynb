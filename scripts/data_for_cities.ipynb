{
 "cells": [
  {
   "cell_type": "code",
   "execution_count": 88,
   "metadata": {},
   "outputs": [],
   "source": [
    "# import requests\n",
    "\n",
    "# url = \"https://data.brasil.io/dataset/covid19/caso_full.csv.gz\"\n",
    "# with open(\"caso_full.csv.gz\", \"wb\") as f:\n",
    "#     r = requests.get(url)\n",
    "#     f.write(r.content)"
   ]
  },
  {
   "cell_type": "code",
   "execution_count": 90,
   "metadata": {},
   "outputs": [],
   "source": [
    "# import gzip\n",
    "# import shutil\n",
    "# with gzip.open('caso_full.csv.gz', 'rb') as f_in:\n",
    "#     with open('caso_full.csv', 'wb') as f_out:\n",
    "#         shutil.copyfileobj(f_in, f_out)"
   ]
  },
  {
   "cell_type": "code",
   "execution_count": 92,
   "metadata": {
    "tags": []
   },
   "outputs": [
    {
     "output_type": "stream",
     "name": "stdout",
     "text": "city  city_ibge_code        date  epidemiological_week  \\\n0       São Paulo         3550308  2020-02-25                     9   \n1             NaN              35  2020-02-25                     9   \n2       São Paulo         3550308  2020-02-26                     9   \n3             NaN              35  2020-02-26                     9   \n4       São Paulo         3550308  2020-02-27                     9   \n...           ...             ...         ...                   ...   \n332535        NaN              43  2020-07-08                    28   \n332536        NaN              42  2020-07-08                    28   \n332537        NaN              28  2020-07-08                    28   \n332538        NaN              35  2020-07-08                    28   \n332539        NaN              17  2020-07-08                    28   \n\n        estimated_population_2019  is_last  is_repeated  confirmed  \\\n0                      12252023.0    False        False          1   \n1                      45919049.0    False        False          1   \n2                      12252023.0    False        False          1   \n3                      45919049.0    False        False          1   \n4                      12252023.0    False        False          1   \n...                           ...      ...          ...        ...   \n332535                 11377239.0     True        False      35557   \n332536                  7164788.0     True        False      36810   \n332537                  2298696.0     True        False      32490   \n332538                 45919049.0     True        False     341365   \n332539                  1572866.0    False         True      13440   \n\n        last_available_confirmed_per_100k_inhabitants last_available_date  \\\n0                                             0.00816          2020-02-25   \n1                                             0.00218          2020-02-25   \n2                                             0.00816          2020-02-26   \n3                                             0.00218          2020-02-26   \n4                                             0.00816          2020-02-27   \n...                                               ...                 ...   \n332535                                      312.52749          2020-07-08   \n332536                                      513.76258          2020-07-08   \n332537                                     1413.41004          2020-07-08   \n332538                                      743.40608          2020-07-08   \n332539                                      854.49110          2020-07-07   \n\n        last_available_death_rate  deaths  order_for_place place_type state  \\\n0                          0.0000       0                1       city    SP   \n1                          0.0000       0                1      state    SP   \n2                          0.0000       0                2       city    SP   \n3                          0.0000       0                2      state    SP   \n4                          0.0000       0                3       city    SP   \n...                           ...     ...              ...        ...   ...   \n332535                     0.0232     825              121      state    RS   \n332536                     0.0117     432              119      state    SC   \n332537                     0.0269     875              117      state    SE   \n332538                     0.0492   16788              135      state    SP   \n332539                     0.0173     233              113      state    TO   \n\n        new_confirmed  new_deaths  \n0                   1           0  \n1                   1           0  \n2                   0           0  \n3                   0           0  \n4                   0           0  \n...               ...         ...  \n332535           1757          32  \n332536           1467          12  \n332537            850          24  \n332538           8657         313  \n332539              0           0  \n\n[330787 rows x 17 columns]\n"
    }
   ],
   "source": [
    "import pandas as pd\n",
    "\n",
    "df = pd.read_csv(\"caso_full.csv\")\n",
    "df = df.rename(columns={\"last_available_confirmed\": \"confirmed\", \"last_available_deaths\": \"deaths\"})\n",
    "df = df[~df.city_ibge_code.isnull()]\n",
    "df = df.astype({\"city_ibge_code\": int})\n",
    "print(df)"
   ]
  },
  {
   "cell_type": "code",
   "execution_count": 10,
   "metadata": {
    "tags": []
   },
   "outputs": [
    {
     "output_type": "stream",
     "name": "stdout",
     "text": "[3550308 3300407 2910800 ... 4311643 4203253 4207908]\n"
    }
   ],
   "source": []
  },
  {
   "cell_type": "code",
   "execution_count": 94,
   "metadata": {
    "tags": []
   },
   "outputs": [],
   "source": [
    "import numpy as np\n",
    "\n",
    "def retrieve_data_for_all_cities(state):\n",
    "   # filter out states and imported cases\n",
    "   test = df[df.place_type.eq(\"city\")]\n",
    "   if (state == True):\n",
    "      test = test[test.state.eq(\"PR\")]\n",
    "   \n",
    "   all_codes = test[test.place_type.eq(\"city\")][\"city_ibge_code\"].unique()\n",
    "\n",
    "   test = test[[\"city_ibge_code\", \"date\", \"confirmed\", \"deaths\"]]\n",
    "   by_dates = [city for city in test.groupby('date')]\n",
    "\n",
    "   for i in range(len(by_dates)):\n",
    "      date, items = by_dates[i]\n",
    "\n",
    "      del items[\"date\"]\n",
    "\n",
    "      # convert all ibge codes to a Series\n",
    "      pd_codes = pd.Series(all_codes)\n",
    "\n",
    "      # retrieve all cities which are not in items\n",
    "      not_in_list = pd_codes[~pd_codes.isin(items['city_ibge_code'])]\n",
    "\n",
    "      # create a new DataFrame with the missing cities. This is a lot faster than using pd.concat.\n",
    "      simple_list = []\n",
    "      for ibge in not_in_list:\n",
    "         simple_list.append([ibge, np.nan, np.nan])\n",
    "\n",
    "      new_data = pd.DataFrame(simple_list, columns=['city_ibge_code', 'confirmed', 'deaths'])\n",
    "\n",
    "      # merge together both DataFrames\n",
    "      items = items.append(new_data, ignore_index=True)\n",
    "\n",
    "      # save back the values\n",
    "      by_dates[i] = [date, items]\n",
    "   return by_dates"
   ]
  },
  {
   "cell_type": "code",
   "execution_count": 96,
   "metadata": {
    "tags": []
   },
   "outputs": [],
   "source": [
    "def retrieve_data_fixed(state):\n",
    "  fixed_data = retrieve_data_for_all_cities(state)\n",
    "  \n",
    "  # add zero to first element. This will be propagated in the for loop.\n",
    "  fixed_data[0][1][['confirmed', 'deaths']] = fixed_data[0][1][['confirmed', 'deaths']].fillna(0)\n",
    "\n",
    "  for i in range(1, len(fixed_data)):\n",
    "    date, items = fixed_data[i]\n",
    "    prev_date, prev_items = fixed_data[i - 1]\n",
    "\n",
    "    # fill missing cities with previous value\n",
    "    items[items['confirmed'].isnull()] = prev_items\n",
    "\n",
    "    # fill remaining with zero\n",
    "    fixed_data[i] = [date, items]\n",
    "  \n",
    "  smaller_date = []\n",
    "  for i in range(len(fixed_data) - 1, -1, -7):\n",
    "    date, items = fixed_data[i]\n",
    "    items = items.astype({\"confirmed\": int, \"deaths\": int})\n",
    "    items = items.sort_values(by='city_ibge_code', ascending=True)\n",
    "    smaller_date.append([date, items])\n",
    "\n",
    "  return smaller_date         "
   ]
  },
  {
   "cell_type": "code",
   "execution_count": 133,
   "metadata": {
    "tags": []
   },
   "outputs": [],
   "source": [
    "def to_json(pr, name):\n",
    "    import collections\n",
    "    import json\n",
    "\n",
    "    pr_df = retrieve_data_fixed(pr)\n",
    "    a = []\n",
    "\n",
    "    for i in range(len(pr_df)):\n",
    "        date, items = pr_df[i]\n",
    "        items = items.rename(columns={\"city_ibge_code\": \"z\", \"confirmed\": \"c\", \"deaths\": \"d\"})\n",
    "        # if (not pr):\n",
    "            # limit the total number\n",
    "            # items = items.nlargest(3000, 'c')\n",
    "        items = json.loads(items.to_json(orient=\"records\"))\n",
    "        pr_df[i] = [date, items]\n",
    "\n",
    "    a = collections.OrderedDict(pr_df)\n",
    "    with open(name, 'w') as outfile:\n",
    "        json.dump(a, outfile)"
   ]
  },
  {
   "cell_type": "code",
   "execution_count": 134,
   "metadata": {
    "tags": []
   },
   "outputs": [],
   "source": [
    "def to_heatmap_json(pr, name):\n",
    "    import collections\n",
    "    import json\n",
    "\n",
    "    pr = retrieve_data_fixed(pr)\n",
    "\n",
    "    date, items = pr[0]\n",
    "    items = items.rename(columns={\"city_ibge_code\": \"z\", \"confirmed\": \"c\", \"deaths\": \"d\"})\n",
    "    items = items[[\"z\", \"c\"]]\n",
    "    items = items.to_csv(name, index = False, header=True)\n"
   ]
  },
  {
   "cell_type": "code",
   "execution_count": 136,
   "metadata": {
    "tags": []
   },
   "outputs": [
    {
     "output_type": "stream",
     "name": "stdout",
     "text": "len is  17\nlen is  20\n"
    }
   ],
   "source": [
    "to_json(True, \"../public/data/pr_ndays.json\")\n",
    "to_json(False, \"../public/data/br_ndays.json\")\n",
    "\n",
    "to_heatmap_json(True, \"../public/data/pr_heatmap.csv\")\n",
    "to_heatmap_json(False, \"../public/data/br_heatmap.csv\")"
   ]
  },
  {
   "cell_type": "code",
   "execution_count": null,
   "metadata": {},
   "outputs": [],
   "source": []
  }
 ],
 "metadata": {
  "language_info": {
   "codemirror_mode": {
    "name": "ipython",
    "version": 3
   },
   "file_extension": ".py",
   "mimetype": "text/x-python",
   "name": "python",
   "nbconvert_exporter": "python",
   "pygments_lexer": "ipython3",
   "version": "3.8.3-final"
  },
  "orig_nbformat": 2,
  "kernelspec": {
   "name": "python_defaultSpec_1594861728000",
   "display_name": "Python 3.8.3 64-bit"
  }
 },
 "nbformat": 4,
 "nbformat_minor": 2
}